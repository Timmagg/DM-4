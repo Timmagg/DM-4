{
 "cells": [
  {
   "cell_type": "code",
   "execution_count": 237,
   "metadata": {
    "collapsed": false
   },
   "outputs": [
    {
     "name": "stdout",
     "output_type": "stream",
     "text": [
      "Populating the interactive namespace from numpy and matplotlib\n"
     ]
    }
   ],
   "source": [
    "import graphlab\n",
    "graphlab.product_key.set_product_key('5C18-F62D-903A-3E36-A80C-BDD9-788A-558B')\n",
    "import pandas as pd\n",
    "import sys\n",
    "%pylab inline"
   ]
  },
  {
   "cell_type": "markdown",
   "metadata": {},
   "source": [
    "# Features extraction"
   ]
  },
  {
   "cell_type": "code",
   "execution_count": 200,
   "metadata": {
    "collapsed": false,
    "scrolled": true
   },
   "outputs": [],
   "source": [
    "def features_extraction(num=1):\n",
    "    u_cols = ['user_id', 'age', 'sex', 'occupation', 'zip_code']\n",
    "    users = pd.read_csv('ml-100k/u.user', sep='|', names=u_cols, encoding='latin-1')\n",
    "    r_cols = ['user_id', 'movie_id', 'rating', 'unix_timestamp']\n",
    "\n",
    "    items = pd.read_csv('ml-100k/u.item', sep='|', \n",
    "                        names=['movie_id', 'movie title' ,'release date','video release date', \n",
    "                               'IMDb URL', 'unknown', 'Action', 'Adventure', 'Animation', 'Children\\'s', \n",
    "                               'Comedy', 'Crime', 'Documentary', 'Drama', 'Fantasy','Film-Noir', 'Horror', \n",
    "                               'Musical', 'Mystery', 'Romance', 'Sci-Fi', 'Thriller', 'War', 'Western'], \n",
    "                        encoding='latin-1')\n",
    "    \n",
    "    items['release date'] = pd.to_datetime(items['release date'])\n",
    "    items['release date'] = items['release date'].apply(lambda x: x.year)\n",
    "    items['release date'] -= items['release date'].min()\n",
    "    items = items.fillna(int(items['release date'].median()))\n",
    "\n",
    "    users.sex = users.sex.apply(lambda x: True if x == 'M' else False)\n",
    "    \n",
    "    items_data = graphlab.SFrame(items[['movie_id', 'movie title' ,'release date',\n",
    "       'unknown', 'Action', 'Adventure', 'Animation', 'Children\\'s', \n",
    "       'Comedy', 'Crime', 'Documentary', 'Drama', 'Fantasy','Film-Noir', 'Horror', \n",
    "       'Musical', 'Mystery', 'Romance', 'Sci-Fi', 'Thriller', 'War', 'Western']])\n",
    "    \n",
    "    users_data = graphlab.SFrame(\n",
    "        pd.concat([users.drop(['occupation', 'zip_code'], axis=1), \n",
    "                   pd.get_dummies(users.occupation)], axis=1)\n",
    "    )\n",
    "    \n",
    "    r_cols = ['user_id', 'movie_id', 'rating', 'unix_timestamp']\n",
    "    ratings_base = pd.read_csv('ml-100k/u' + str(num) + '.base', sep='\\t', names=r_cols, encoding='latin-1')\n",
    "    ratings_test = pd.read_csv('ml-100k/u' + str(num) + '.test', sep='\\t', names=r_cols, encoding='latin-1')\n",
    "\n",
    "    train_data = graphlab.SFrame(ratings_base)\n",
    "    test_data = graphlab.SFrame(ratings_test)\n",
    "    return train_data, test_data, users_data, items_data"
   ]
  },
  {
   "cell_type": "code",
   "execution_count": 230,
   "metadata": {
    "collapsed": false
   },
   "outputs": [
    {
     "data": {
      "text/plain": [
       "student          196\n",
       "other            105\n",
       "educator          95\n",
       "administrator     79\n",
       "engineer          67\n",
       "programmer        66\n",
       "librarian         51\n",
       "writer            45\n",
       "executive         32\n",
       "scientist         31\n",
       "artist            28\n",
       "technician        27\n",
       "marketing         26\n",
       "entertainment     18\n",
       "healthcare        16\n",
       "retired           14\n",
       "salesman          12\n",
       "lawyer            12\n",
       "none               9\n",
       "homemaker          7\n",
       "doctor             7\n",
       "Name: occupation, dtype: int64"
      ]
     },
     "execution_count": 230,
     "metadata": {},
     "output_type": "execute_result"
    }
   ],
   "source": [
    "users.occupation.value_counts()"
   ]
  },
  {
   "cell_type": "markdown",
   "metadata": {},
   "source": [
    "# Models"
   ]
  },
  {
   "cell_type": "code",
   "execution_count": 267,
   "metadata": {
    "collapsed": false
   },
   "outputs": [],
   "source": [
    "def train_test(train_data, test_data, users_data, items_data):\n",
    "    models = dict()\n",
    "#     models['popularity'] = graphlab.popularity_recommender.create(train_data, \n",
    "#                                                                   user_id='user_id', \n",
    "#                                                                   item_id='movie_id',\n",
    "#                                                                   target='rating'\n",
    "#                                                                  )\n",
    "\n",
    "                                                              \n",
    "#     models['item_sim'] = graphlab.item_similarity_recommender.create(train_data, user_id='user_id', \n",
    "#                                                                  item_id='movie_id', \n",
    "#                                                                  target='rating', \n",
    "#                                                                  similarity_type='pearson')\n",
    "                                           \n",
    "                                                              \n",
    "    models['fact'] = graphlab.factorization_recommender.create(train_data, \n",
    "                                                           user_id='user_id', \n",
    "                                                           item_id='movie_id', \n",
    "                                                           target='rating', \n",
    "                                                           user_data=users_data, \n",
    "                                                           item_data=items_data,\n",
    "                                                           verbose=False,\n",
    "                                                           regularization=1e-03,\n",
    "#                                                            num_factors=8\n",
    "                                                          )     \n",
    "                              \n",
    "    predicted = dict()\n",
    "    for i in models.keys():\n",
    "        predicted[i] = models[i].predict(test_data)\n",
    "       \n",
    "    rmse = dict()\n",
    "    for i in models.keys():\n",
    "        rmse[i] = graphlab.evaluation.rmse(predicted[i], test_data['rating'])                                                  \n",
    "    \n",
    "    return rmse"
   ]
  },
  {
   "cell_type": "code",
   "execution_count": 268,
   "metadata": {
    "collapsed": false,
    "scrolled": true
   },
   "outputs": [
    {
     "data": {
      "text/html": [
       "<pre>Recsys training: model = factorization_recommender</pre>"
      ],
      "text/plain": [
       "Recsys training: model = factorization_recommender"
      ]
     },
     "metadata": {},
     "output_type": "display_data"
    },
    {
     "data": {
      "text/html": [
       "<pre>Recsys training: model = factorization_recommender</pre>"
      ],
      "text/plain": [
       "Recsys training: model = factorization_recommender"
      ]
     },
     "metadata": {},
     "output_type": "display_data"
    },
    {
     "data": {
      "text/html": [
       "<pre>Recsys training: model = factorization_recommender</pre>"
      ],
      "text/plain": [
       "Recsys training: model = factorization_recommender"
      ]
     },
     "metadata": {},
     "output_type": "display_data"
    },
    {
     "data": {
      "text/html": [
       "<pre>Recsys training: model = factorization_recommender</pre>"
      ],
      "text/plain": [
       "Recsys training: model = factorization_recommender"
      ]
     },
     "metadata": {},
     "output_type": "display_data"
    },
    {
     "data": {
      "text/html": [
       "<pre>Recsys training: model = factorization_recommender</pre>"
      ],
      "text/plain": [
       "Recsys training: model = factorization_recommender"
      ]
     },
     "metadata": {},
     "output_type": "display_data"
    }
   ],
   "source": [
    "rmse = []\n",
    "for i in range(1, 6):\n",
    "    train_data, test_data, users_data, items_data = features_extraction(i)\n",
    "    rmse.append(train_test(train_data, test_data, users_data, items_data))"
   ]
  },
  {
   "cell_type": "code",
   "execution_count": 269,
   "metadata": {
    "collapsed": false
   },
   "outputs": [],
   "source": [
    "a = [[i[key] for i in rmse]for key in rmse[0].keys()]"
   ]
  },
  {
   "cell_type": "code",
   "execution_count": 270,
   "metadata": {
    "collapsed": false,
    "scrolled": true
   },
   "outputs": [
    {
     "data": {
      "text/plain": [
       "['fact']"
      ]
     },
     "execution_count": 270,
     "metadata": {},
     "output_type": "execute_result"
    }
   ],
   "source": [
    "rmse[0].keys()"
   ]
  },
  {
   "cell_type": "code",
   "execution_count": 271,
   "metadata": {
    "collapsed": false
   },
   "outputs": [
    {
     "data": {
      "text/plain": [
       "0.93497421100538125"
      ]
     },
     "execution_count": 271,
     "metadata": {},
     "output_type": "execute_result"
    }
   ],
   "source": [
    "asanyarray(a).mean()"
   ]
  },
  {
   "cell_type": "code",
   "execution_count": 256,
   "metadata": {
    "collapsed": false
   },
   "outputs": [
    {
     "data": {
      "text/plain": [
       "0.9332824695019486"
      ]
     },
     "execution_count": 256,
     "metadata": {},
     "output_type": "execute_result"
    }
   ],
   "source": [
    "asanyarray(a).mean()"
   ]
  },
  {
   "cell_type": "code",
   "execution_count": 245,
   "metadata": {
    "collapsed": false
   },
   "outputs": [
    {
     "data": {
      "text/plain": [
       "[[0.9559537275777625,\n",
       "  0.9454607880403011,\n",
       "  0.9409094918816759,\n",
       "  0.9401953978786943,\n",
       "  0.937665904677699]]"
      ]
     },
     "execution_count": 245,
     "metadata": {},
     "output_type": "execute_result"
    }
   ],
   "source": [
    "a"
   ]
  },
  {
   "cell_type": "code",
   "execution_count": 241,
   "metadata": {
    "collapsed": false
   },
   "outputs": [
    {
     "data": {
      "text/plain": [
       "[[0.9559537275777625,\n",
       "  0.9454607880403011,\n",
       "  0.9409094918816759,\n",
       "  0.9401953978786943,\n",
       "  0.937665904677699]]"
      ]
     },
     "execution_count": 241,
     "metadata": {},
     "output_type": "execute_result"
    }
   ],
   "source": [
    "a"
   ]
  }
 ],
 "metadata": {
  "kernelspec": {
   "display_name": "Python 2",
   "language": "python",
   "name": "python2"
  },
  "language_info": {
   "codemirror_mode": {
    "name": "ipython",
    "version": 2
   },
   "file_extension": ".py",
   "mimetype": "text/x-python",
   "name": "python",
   "nbconvert_exporter": "python",
   "pygments_lexer": "ipython2",
   "version": "2.7.12"
  }
 },
 "nbformat": 4,
 "nbformat_minor": 0
}
