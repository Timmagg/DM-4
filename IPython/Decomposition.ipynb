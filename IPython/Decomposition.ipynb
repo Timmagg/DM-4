{
 "cells": [
  {
   "cell_type": "code",
   "execution_count": 23,
   "metadata": {
    "collapsed": false
   },
   "outputs": [],
   "source": [
    "from subprocess import call\n",
    "from sklearn.metrics import mean_squared_error\n",
    "import pandas as pd"
   ]
  },
  {
   "cell_type": "code",
   "execution_count": 12,
   "metadata": {
    "collapsed": true
   },
   "outputs": [],
   "source": [
    "options = {\n",
    "    'SigmoidUserAsymmetricFactorModel': 'num_factors=5 '\n",
    "                                        'regularization=0.003 '\n",
    "                                        'bias_reg=0.01 '\n",
    "                                        'learn_rate=0.006 '\n",
    "                                        'bias_learn_rate=0.7 num_iter=70',\n",
    "\n",
    "    'SVDPlusPlus': 'num_factors=50 '\n",
    "                   'regularization=1 '\n",
    "                   'bias_reg=0.005 '\n",
    "                   'learn_rate=0.01 '\n",
    "                   'bias_learn_rate=0.07 '\n",
    "                   'num_iter=50 '\n",
    "                   'frequency_regularization=true',\n",
    "    \n",
    "    'SigmoidItemAsymmetricFactorModel': 'num_factors=10 '\n",
    "                                        'regularization=0.005 '\n",
    "                                        'bias_reg=0.1 '\n",
    "                                        'learn_rate=0.006 '\n",
    "                                        'bias_learn_rate=0.7 num_iter=90',\n",
    "    \n",
    "    'BiasedMatrixFactorization': 'num_factors=40 '\n",
    "                                 'bias_reg=0.1 '\n",
    "                                 'reg_u=1.0 '\n",
    "                                 'reg_i=1.2 '\n",
    "                                 'learn_rate=0.07 '\n",
    "                                 'num_iter=100 '\n",
    "                                 'frequency_regularization=true bold_driver=true',\n",
    "    \n",
    "#     'ItemKNNPearson': 'k=40 shrinkage=2500 reg_u=12 reg_i=1',\n",
    "    \n",
    "#     'UserKNNCosine': 'k=40 reg_u=12 reg_i=1',\n",
    "#     'UserKNNPearson': 'k=60 shrinkage=25 reg_u=12 reg_i=1',\n",
    "#     'ItemKNNCosine': 'k=40 reg_u=12 reg_i=1',\n",
    "    \n",
    "#     'SVDPlusPlus': 'num_factors=20 '\n",
    "#                    'regularization=0.1 '\n",
    "#                    'bias_reg=0.005 '\n",
    "#                    'learn_rate=0.01 '\n",
    "#                    'bias_learn_rate=0.007 '\n",
    "#                    'num_iter=50'\n",
    "}"
   ]
  },
  {
   "cell_type": "code",
   "execution_count": 13,
   "metadata": {
    "collapsed": true
   },
   "outputs": [],
   "source": [
    "predictions = {}\n",
    "for i in range(1, 6):\n",
    "    predictions[str(i)] = []"
   ]
  },
  {
   "cell_type": "code",
   "execution_count": 4,
   "metadata": {
    "collapsed": true
   },
   "outputs": [],
   "source": [
    "for method in options.keys():\n",
    "    for i in range(1, 6):\n",
    "        call(['rating_prediction',\n",
    "              '--training-file=./ml-100k/u' + str(i) + '.base',\n",
    "              '--test-file=./ml-100k/u' + str(i) + '.test',\n",
    "              '--recommender=' + method,\n",
    "              '--recommender-options=' + options[method],\n",
    "              '--random-seed=42',\n",
    "              '--no-id-mapping',\n",
    "              '--prediction-file=./ml-100k/predictions/' + str(i) + '_' + method\n",
    "             ])"
   ]
  },
  {
   "cell_type": "code",
   "execution_count": 14,
   "metadata": {
    "collapsed": false
   },
   "outputs": [],
   "source": [
    "for method in options.keys():\n",
    "    for i in range(1, 6):\n",
    "        predictions[str(i)].append(\n",
    "            pd.read_csv('./ml-100k/predictions/' + str(i) + '_' + method, \n",
    "                        sep='\\t', \n",
    "                        names=['user_id', 'item_id', 'rating'])\n",
    "        )\n",
    "        "
   ]
  },
  {
   "cell_type": "code",
   "execution_count": 34,
   "metadata": {
    "collapsed": false
   },
   "outputs": [],
   "source": [
    "test = []\n",
    "train = []\n",
    "cols = ['user_id', 'item_id', 'rating', 'unix_timestamp']\n",
    "for i in range(1, 6):\n",
    "    train.append(pd.read_csv('ml-100k/u' + str(i) + '.base', sep='\\t', names=cols, encoding='latin-1'))\n",
    "    test.append(pd.read_csv('ml-100k/u' + str(i) + '.test', sep='\\t', names=cols, encoding='latin-1'))"
   ]
  },
  {
   "cell_type": "code",
   "execution_count": 37,
   "metadata": {
    "collapsed": false,
    "scrolled": true
   },
   "outputs": [
    {
     "name": "stdout",
     "output_type": "stream",
     "text": [
      "RMSE ofSigmoidItemAsymmetricFactorModel on 1 part: 0.919504947089\n",
      "RMSE ofSigmoidUserAsymmetricFactorModel on 1 part: 0.898169961618\n",
      "RMSE ofBiasedMatrixFactorization on 1 part: 0.922511080116\n",
      "RMSE ofSVDPlusPlus on 1 part: 0.919790882342\n",
      "RMSE ofSigmoidItemAsymmetricFactorModel on 2 part: 0.913979310542\n",
      "RMSE ofSigmoidUserAsymmetricFactorModel on 2 part: 0.894538579024\n",
      "RMSE ofBiasedMatrixFactorization on 2 part: 0.913284707824\n",
      "RMSE ofSVDPlusPlus on 2 part: 0.907902841253\n",
      "RMSE ofSigmoidItemAsymmetricFactorModel on 3 part: 0.907786718493\n",
      "RMSE ofSigmoidUserAsymmetricFactorModel on 3 part: 0.892510510894\n",
      "RMSE ofBiasedMatrixFactorization on 3 part: 0.908897236586\n",
      "RMSE ofSVDPlusPlus on 3 part: 0.903214681519\n",
      "RMSE ofSigmoidItemAsymmetricFactorModel on 4 part: 0.910068533192\n",
      "RMSE ofSigmoidUserAsymmetricFactorModel on 4 part: 0.892982490701\n",
      "RMSE ofBiasedMatrixFactorization on 4 part: 0.909320397191\n",
      "RMSE ofSVDPlusPlus on 4 part: 0.903436471565\n",
      "RMSE ofSigmoidItemAsymmetricFactorModel on 5 part: 0.907412473489\n",
      "RMSE ofSigmoidUserAsymmetricFactorModel on 5 part: 0.889962053425\n",
      "RMSE ofBiasedMatrixFactorization on 5 part: 0.90938457066\n",
      "RMSE ofSVDPlusPlus on 5 part: 0.912542330132\n"
     ]
    }
   ],
   "source": [
    "for i in range(1, 6):\n",
    "    for method, el in enumerate(options.keys()):\n",
    "        print('RMSE of' + el + ' on ' + str(i) + ' part:', \n",
    "              mean_squared_error(test[i - 1].rating, predictions[str(i)][method].rating) ** 0.5)"
   ]
  },
  {
   "cell_type": "code",
   "execution_count": 45,
   "metadata": {
    "collapsed": false
   },
   "outputs": [
    {
     "name": "stdout",
     "output_type": "stream",
     "text": [
      "RMSE ofSVDPlusPlus on 1 part: 0.899081833914\n",
      "RMSE ofSVDPlusPlus on 2 part: 0.891198546094\n",
      "RMSE ofSVDPlusPlus on 3 part: 0.886795255742\n",
      "RMSE ofSVDPlusPlus on 4 part: 0.887853644815\n",
      "RMSE ofSVDPlusPlus on 5 part: 0.888737775446\n"
     ]
    }
   ],
   "source": [
    "rmse = []\n",
    "for i in range(1, 6):\n",
    "    grouped = sum([predictions[str(i)][method].rating for method in range(0, 4)]) / 4.\n",
    "    rmse.append(\n",
    "        mean_squared_error(test[i - 1].rating, \n",
    "                           grouped) ** 0.5)\n",
    "    print('RMSE of' + el + ' on ' + str(i) + ' part:', rmse[-1])"
   ]
  },
  {
   "cell_type": "code",
   "execution_count": 46,
   "metadata": {
    "collapsed": false,
    "scrolled": true
   },
   "outputs": [
    {
     "data": {
      "text/plain": [
       "0.89073341120218541"
      ]
     },
     "execution_count": 46,
     "metadata": {},
     "output_type": "execute_result"
    }
   ],
   "source": [
    "sum(rmse) / 5."
   ]
  }
 ],
 "metadata": {
  "kernelspec": {
   "display_name": "Python 3",
   "language": "python",
   "name": "python3"
  },
  "language_info": {
   "codemirror_mode": {
    "name": "ipython",
    "version": 3
   },
   "file_extension": ".py",
   "mimetype": "text/x-python",
   "name": "python",
   "nbconvert_exporter": "python",
   "pygments_lexer": "ipython3",
   "version": "3.5.2"
  }
 },
 "nbformat": 4,
 "nbformat_minor": 0
}
